{
 "cells": [
  {
   "cell_type": "code",
   "execution_count": 174,
   "metadata": {
    "collapsed": true
   },
   "outputs": [],
   "source": [
    "%matplotlib inline\n",
    "import numpy as np\n",
    "import numpy.linalg as npln\n",
    "import sympy as sp\n",
    "import matplotlib.pyplot as pt"
   ]
  },
  {
   "cell_type": "code",
   "execution_count": 340,
   "metadata": {
    "collapsed": false
   },
   "outputs": [],
   "source": [
    "class dist :\n",
    "    def __init__(self, mean, variance) :\n",
    "        self.mean = mean\n",
    "        self.variance = variance\n",
    "    \n",
    "    def __repr__(self) : \n",
    "        return str(\"<mean : \" + str(self.mean) + \", var : \" + str(self.variance) + \">\")\n",
    "        \n",
    "    # http://stats.stackexchange.com/questions/7440/kl-divergence-between-two-univariate-gaussians\n",
    "    @staticmethod\n",
    "    def kl(p, q, sym_p = None, sym_q = None) :\n",
    "        if (sym_p == None) : \n",
    "            (m1, v1), (m2, v2) = (p.mean, p.variance), (q.mean, q.variance)\n",
    "            m1, v1, m2, v2 = float(m1), float(v1), float(m2), float(v2)\n",
    "            s1, s2 = np.sqrt(v1), np.sqrt(v2)\n",
    "            return np.log(s2/s1) + (v1 + (m1 - m2)**2)/(2*v2) - 0.5\n",
    "        else :\n",
    "            m1, s1, m2, s2 = sym_p[0], sym_p[1], sym_q[0], sym_q[1]\n",
    "            return (sp.ln(s2/s1) + (s1**2 + (m1 - m2)**2)/(2*s2**2) - 0.5)\n",
    "    \n",
    "    # https://en.wikipedia.org/wiki/Sum_of_normally_distributed_random_variables\n",
    "    @staticmethod\n",
    "    def sum(p, q) : \n",
    "        return dist(p.mean + q.mean, p.variance + q.variance)\n",
    "    \n",
    "    def flip_mean(self) : \n",
    "        return dist(-self.mean, self.variance)"
   ]
  },
  {
   "cell_type": "code",
   "execution_count": 334,
   "metadata": {
    "collapsed": false
   },
   "outputs": [],
   "source": [
    "class edge :\n",
    "    def __init__(self, node_a, node_b, dist = dist(1,1), samples = []) :\n",
    "        self.dist = dist\n",
    "        self.samples = []\n",
    "        self.node_a = node_a\n",
    "        self.node_b = node_b\n",
    "        # node_b is the greater node\n",
    "        # dist should be the greater index node - lower index node\n",
    "        \n",
    "    def __repr__(self) : \n",
    "        return str(self.node_a) + \"-\" + str(self.node_b)\n",
    "    \n",
    "    def has_samples(self) :\n",
    "        return len(self.samples) != 0\n",
    "    \n",
    "    def add_sample(self, sample) :\n",
    "        self.samples.append(sample)\n",
    "            \n",
    "    def weighted_sum_of_squared_errors(self, sym_mean = None, sym_var = None) :\n",
    "        if len(self.samples) == 0 :\n",
    "            raise Exception(\"no samples\")\n",
    "        \n",
    "        sum_of_squared_errors = 0\n",
    "        if sym_mean == None :\n",
    "            mean = self.dist.mean\n",
    "        else :\n",
    "            mean = sym_mean\n",
    "        for s in self.samples :\n",
    "            sum_of_squared_errors += (s - mean)**2\n",
    "        \n",
    "        if sym_var == None : \n",
    "            return sum_of_squared_errors / self.dist.variance\n",
    "        else :\n",
    "            return sum_of_squared_errors / sym_var\n",
    "        \n",
    "    def confidence(self) : \n",
    "        if len(self.samples) == 0 : \n",
    "            raise Exception(\"no samples\")\n",
    "        \n",
    "        err = self.weighted_sum_of_squared_errors()\n",
    "        n = len(self.samples)\n",
    "        return n / (np.sqrt(err)+1)\n",
    "    \n",
    "    def maximum_likelihood_estimator(self) :\n",
    "        samples = self.samples\n",
    "        n = len(samples)\n",
    "        total = 0.0\n",
    "        for sample in samples :\n",
    "            total += sample\n",
    "        \n",
    "        mean = total / n\n",
    "        \n",
    "        errtotal = 0.0\n",
    "        for sample in samples : \n",
    "            errtotal += (sample - mean)**2\n",
    "            \n",
    "        variance = errtotal / n\n",
    "        return dist(mean, variance)\n",
    "        "
   ]
  },
  {
   "cell_type": "code",
   "execution_count": 347,
   "metadata": {
    "collapsed": false
   },
   "outputs": [],
   "source": [
    "class graph :\n",
    "    def __init__(self, V) :\n",
    "        self.__matrix = []\n",
    "        self.V = V\n",
    "        # we will use edges only in the upper right triangle\n",
    "        for i in range(V) :\n",
    "            self.__matrix.append([])\n",
    "            for j in range(V) :\n",
    "                self.__matrix[i].append(edge(j, i))\n",
    "    \n",
    "    def __index(self, x, y) :\n",
    "        if (x == y) :\n",
    "            raise Exception(\"no self edges\")\n",
    "        \n",
    "        if (x > y) : \n",
    "            return (y, x)\n",
    "        \n",
    "        return (x, y)\n",
    "    \n",
    "    def add_sample(self, x, y, sample) :\n",
    "        x, y = self.__index(x, y)\n",
    "        self.__matrix[y][x].add_sample(sample)\n",
    "    \n",
    "    def set_dist(self, x, y, dist) :\n",
    "        self.get_edge(x, y).dist = dist\n",
    "    \n",
    "    def get_edge(self, x, y) :\n",
    "        x, y = self.__index(x, y)\n",
    "        return self.__matrix[y][x]\n",
    "\n",
    "    def get_sampled_paths(self, x, y) :\n",
    "        return self.__get_sampled_paths_helper(x, y, {x})\n",
    "    \n",
    "    def __get_sampled_paths_helper(self, curr, dest, visited_vertices) :\n",
    "        if curr == dest :\n",
    "            return [[]]\n",
    "        \n",
    "        total_list_of_paths = []\n",
    "        for i in range(self.V) :\n",
    "            if i not in visited_vertices :\n",
    "                cur_edge = self.get_edge(curr, i)\n",
    "                if (cur_edge.has_samples()) :\n",
    "                    new_visited_vertices = visited_vertices.copy()\n",
    "                    new_visited_vertices.add(i)\n",
    "                    list_of_paths = self.__get_sampled_paths_helper(i, dest, new_visited_vertices)\n",
    "                    for path in list_of_paths :\n",
    "                        path.append(cur_edge)\n",
    "                    total_list_of_paths += list_of_paths\n",
    "        \n",
    "        return total_list_of_paths\n",
    "        \n",
    "        "
   ]
  },
  {
   "cell_type": "code",
   "execution_count": 360,
   "metadata": {
    "collapsed": false
   },
   "outputs": [],
   "source": [
    "class model :\n",
    "    @staticmethod\n",
    "    def path_dist_estimation(path) :\n",
    "        # path length is always greater than 1.\n",
    "        estimation = path[0].dist\n",
    "        \n",
    "        if path[0].node_a == path[1].node_a or path[0].node_a == path[1].node_b : \n",
    "            # node_b - node_a - ... \n",
    "            estimation = path[0].dist.flip_mean()\n",
    "        for i in range(1, len(path)) : \n",
    "            curr = path[i]\n",
    "            prev = path[i-1]\n",
    "            if curr.node_a == prev.node_a or curr.node_a == prev.node_b :\n",
    "                estimation = dist.sum(estimation, curr.dist)# head - ... - node_a - node_b - ... - tail\n",
    "            else :\n",
    "                estimation = dist.sum(estimation, curr.dist.flip_mean())\n",
    "            \n",
    "           \n",
    "        head = path[0].node_a\n",
    "        tail = path[-1].node_a\n",
    "        if path[0].node_a == path[1].node_a or path[0].node_a == path[1].node_b :\n",
    "            head = path[0].node_b # node_b is the end\n",
    "            \n",
    "        if path[-1].node_a == path[-2].node_a or path[-1].node_a == path[-2].node_b :\n",
    "            tail = path[-1].node_b # node_b is the end\n",
    "            \n",
    "        if head > tail :\n",
    "            return estimation.flip_mean() # 0th is greater than last. SWAP\n",
    "            \n",
    "        else : \n",
    "            return estimation # last is greater than 0th\n",
    "    \n",
    "    @staticmethod\n",
    "    def path_confidence_estimation(path) : \n",
    "        sum_of_reciprocals = 0\n",
    "        for edge in path :\n",
    "            sum_of_reciprocals += 1 / edge.confidence()\n",
    "        \n",
    "        return np.sqrt(1 / sum_of_reciprocals)\n",
    "    \n",
    "    @staticmethod\n",
    "    def param_cost_formula(graph, x, y, paths = None) :\n",
    "        edge = graph.get_edge(x, y)\n",
    "        if (paths == None) :\n",
    "            paths = graph.get_sampled_paths(x, y)\n",
    "        if len(paths) == 0 :\n",
    "            print(\"no available path between x and y\")\n",
    "            return -1\n",
    "        \n",
    "        m1, s1 = sp.symbols('m1 s1')\n",
    "        cost_sum = 0\n",
    "        for path in paths :\n",
    "            if len(path) == 1 : \n",
    "                continue\n",
    "            path_dist = model.path_dist_estimation(path)\n",
    "            path_confidence = model.path_confidence_estimation(path)\n",
    "            m2 = path_dist.mean\n",
    "            s2 = np.sqrt(path_dist.variance)\n",
    "            cost_sum += dist.kl(0,0,(m1,s1),(m2,s2)) * path_confidence\n",
    "            #cost_sum += (sp.ln(s2/s1) + (s1**2 + (m1 - m2)**2)/(2*s2**2) - 0.5) * path_confidence\n",
    "            cost_sum = sp.simplify(cost_sum)\n",
    "        \n",
    "        if (edge.has_samples()) :\n",
    "            mle = edge.maximum_likelihood_estimator()\n",
    "            n = len(edge.samples)\n",
    "            confidence = np.sqrt(n / (np.sqrt(n) + 1))\n",
    "            cost_sum += dist.kl(0,0,(m1,s1), (mle.mean, np.sqrt(mle.variance))) * confidence\n",
    "        \n",
    "        return (cost_sum, m1, s1)\n",
    "    \n",
    "    @staticmethod\n",
    "    def param_cost_optimize(formula, m, s, mi, si) :\n",
    "        formula = sp.simplify(formula)\n",
    "        # http://homes.soic.indiana.edu/classes/spring2012/csci/b553-hauserk/newtons_method.pdf\n",
    "        fdm = sp.diff(formula, m)\n",
    "        fds = sp.diff(formula, s)\n",
    "        fdmm = sp.diff(fdm, m)\n",
    "        fdms = sp.diff(fdm, s)\n",
    "        fdsm = sp.diff(fds, m)\n",
    "        fdss = sp.diff(fds, s)\n",
    "        \n",
    "        gradient_formula = [fdm, fds]\n",
    "        hessian_formula = [[fdmm, fdms], [fdsm, fdss]]\n",
    "        \n",
    "        x = np.array([mi, si])\n",
    "        counter = 0\n",
    "        while True :\n",
    "            gradient, hessian = model.apply_values(gradient_formula, hessian_formula, {m1: x[0], s1: x[1]})\n",
    "            newx = x - npln.inv(hessian).dot(gradient)\n",
    "            if np.abs(newx[0] - x[0]) < 0.00001 and np.abs(newx[1] - x[1]) < 0.00001:\n",
    "                return x[0], x[1]\n",
    "            \n",
    "            if counter >= 500 :\n",
    "                raise Exception('Infinite loop detected')\n",
    "            x = newx\n",
    "            counter += 1\n",
    "        \n",
    "    \n",
    "    @staticmethod\n",
    "    def apply_values(gradient_formula, hessian_formula, sub) : \n",
    "        fdm = float(gradient_formula[0].evalf(subs=sub))\n",
    "        fds = float(gradient_formula[1].evalf(subs=sub))\n",
    "        fdmm = float(hessian_formula[0][0].evalf(subs=sub))\n",
    "        fdms = float(hessian_formula[0][1].evalf(subs=sub))\n",
    "        fdsm = float(hessian_formula[1][0].evalf(subs=sub))\n",
    "        fdss = float(hessian_formula[1][1].evalf(subs=sub))\n",
    "        \n",
    "        return np.array([fdm, fds]), np.array([[fdmm, fdms],[fdsm, fdss]])\n",
    "    \n",
    "    @staticmethod\n",
    "    def optimize_edge(graph, x, y) :\n",
    "        formula, m1, s1 = model.param_cost_formula(graph, x, y)\n",
    "        edge = graph.get_edge(x, y)\n",
    "        mi, si = edge.dist.mean, np.sqrt(edge.dist.variance)\n",
    "        mean, stddev = model.param_cost_optimize(formula, m1, s1, mi, si)\n",
    "        #print(mean, stddev**2)\n",
    "        edge.dist = dist(mean, stddev**2)"
   ]
  },
  {
   "cell_type": "code",
   "execution_count": 364,
   "metadata": {
    "collapsed": false
   },
   "outputs": [
    {
     "name": "stdout",
     "output_type": "stream",
     "text": [
      "<mean : 3319.61532154, var : 109.346047135>\n"
     ]
    }
   ],
   "source": [
    "g =  graph(4)\n",
    "g.add_sample(0,1,990)\n",
    "g.add_sample(0,1,1010)\n",
    "g.set_dist(0,1,dist(1000,70))\n",
    "g.add_sample(1,2,1990)\n",
    "g.add_sample(1,2,2010)\n",
    "g.set_dist(1,2,dist(2000,50))\n",
    "\n",
    "g.add_sample(0,3,1190)\n",
    "g.add_sample(0,3,1210)\n",
    "g.set_dist(0,3,dist(1200,50))\n",
    "g.add_sample(3,2,-2390)\n",
    "g.add_sample(3,2,-2410)\n",
    "g.set_dist(3,2,dist(-2400,50))\n",
    "#g.add_sample(0,2,3490)\n",
    "#g.add_sample(0,2,3510)\n",
    "g.set_dist(0,2,dist(4000,100))\n",
    "model.optimize_edge(g,0,2) # somehow forgets all other data. \n",
    "print(g.get_edge(0,2).dist)"
   ]
  },
  {
   "cell_type": "code",
   "execution_count": 200,
   "metadata": {
    "collapsed": false
   },
   "outputs": [
    {
     "name": "stdout",
     "output_type": "stream",
     "text": [
      "float64\n",
      "float64\n",
      "float64\n",
      "<mean : 3.12500479646, var : 0.0999946269742>\n"
     ]
    }
   ],
   "source": [
    "model.optimize_edge(g,0,2) # somehow forgets all other data. \n",
    "print(g.get_edge(0,2).dist)"
   ]
  },
  {
   "cell_type": "code",
   "execution_count": 295,
   "metadata": {
    "collapsed": false
   },
   "outputs": [
    {
     "data": {
      "text/plain": [
       "(2*m1 - 2*m2)/(2*s2**2)"
      ]
     },
     "execution_count": 295,
     "metadata": {},
     "output_type": "execute_result"
    }
   ],
   "source": [
    "m1, s1, m2, s2 = sp.symbols('m1 s1 m2 s2')\n",
    "kl = 0\n",
    "kl += sp.ln(s2/s1) + (s1**2 + (m1 - m2)**2)/(2*s2**2) - 0.5\n",
    " \n",
    "sp.diff(kl, m1)"
   ]
  },
  {
   "cell_type": "code",
   "execution_count": 371,
   "metadata": {
    "collapsed": false
   },
   "outputs": [
    {
     "data": {
      "text/plain": [
       "True"
      ]
     },
     "execution_count": 371,
     "metadata": {},
     "output_type": "execute_result"
    }
   ],
   "source": [
    "a = np.array([0,1])\n",
    "b = np.array([0,1])\n",
    "(a == b).all()"
   ]
  },
  {
   "cell_type": "code",
   "execution_count": 270,
   "metadata": {
    "collapsed": false
   },
   "outputs": [
    {
     "ename": "TypeError",
     "evalue": "'module' object is not callable",
     "output_type": "error",
     "traceback": [
      "\u001b[0;31m---------------------------------------------------------------------------\u001b[0m",
      "\u001b[0;31mTypeError\u001b[0m                                 Traceback (most recent call last)",
      "\u001b[0;32m<ipython-input-270-287f4dba026e>\u001b[0m in \u001b[0;36m<module>\u001b[0;34m()\u001b[0m\n\u001b[0;32m----> 1\u001b[0;31m \u001b[0mnp\u001b[0m\u001b[0;34m.\u001b[0m\u001b[0mrandom\u001b[0m\u001b[0;34m(\u001b[0m\u001b[0;36m1\u001b[0m\u001b[0;34m)\u001b[0m\u001b[0;34m\u001b[0m\u001b[0m\n\u001b[0m",
      "\u001b[0;31mTypeError\u001b[0m: 'module' object is not callable"
     ]
    }
   ],
   "source": [
    "np.random(1)"
   ]
  },
  {
   "cell_type": "code",
   "execution_count": 304,
   "metadata": {
    "collapsed": false
   },
   "outputs": [
    {
     "data": {
      "text/plain": [
       "0.5"
      ]
     },
     "execution_count": 304,
     "metadata": {},
     "output_type": "execute_result"
    }
   ],
   "source": [
    "1/2.0"
   ]
  },
  {
   "cell_type": "code",
   "execution_count": 305,
   "metadata": {
    "collapsed": false
   },
   "outputs": [
    {
     "data": {
      "text/plain": [
       "1.0"
      ]
     },
     "execution_count": 305,
     "metadata": {},
     "output_type": "execute_result"
    }
   ],
   "source": [
    "0.0 + 1\n"
   ]
  },
  {
   "cell_type": "code",
   "execution_count": 310,
   "metadata": {
    "collapsed": false
   },
   "outputs": [
    {
     "data": {
      "text/plain": [
       "2"
      ]
     },
     "execution_count": 310,
     "metadata": {},
     "output_type": "execute_result"
    }
   ],
   "source": [
    "a = (1,2)\n",
    "a[0]\n",
    "a[1]"
   ]
  },
  {
   "cell_type": "code",
   "execution_count": null,
   "metadata": {
    "collapsed": true
   },
   "outputs": [],
   "source": []
  }
 ],
 "metadata": {
  "kernelspec": {
   "display_name": "Python 2",
   "language": "python",
   "name": "python2"
  },
  "language_info": {
   "codemirror_mode": {
    "name": "ipython",
    "version": 2
   },
   "file_extension": ".py",
   "mimetype": "text/x-python",
   "name": "python",
   "nbconvert_exporter": "python",
   "pygments_lexer": "ipython2",
   "version": "2.7.9"
  }
 },
 "nbformat": 4,
 "nbformat_minor": 0
}
