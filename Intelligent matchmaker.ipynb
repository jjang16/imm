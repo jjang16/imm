{
 "cells": [
  {
   "cell_type": "code",
   "execution_count": 1,
   "metadata": {
    "collapsed": true
   },
   "outputs": [],
   "source": [
    "%matplotlib inline\n",
    "import numpy as np\n",
    "import matplotlib.pyplot as pt"
   ]
  },
  {
   "cell_type": "code",
   "execution_count": 45,
   "metadata": {
    "collapsed": false
   },
   "outputs": [],
   "source": [
    "class dist :\n",
    "    def __init__(self, mean, variance) :\n",
    "        self.mean = mean\n",
    "        self.variance = variance\n",
    "    \n",
    "    # http://stats.stackexchange.com/questions/7440/kl-divergence-between-two-univariate-gaussians\n",
    "    def kl(p, q) :\n",
    "        (m1, v1), (m2, v2) = (p.mean, p.variance), (q.mean, q.variance)\n",
    "        m1, v1, m2, v2 = float(m1), float(v1), float(m2), float(v2)\n",
    "        s1, s2 = np.sqrt(v1), np.sqrt(v2)\n",
    "        return np.log(s2/s1) + (v1 + (m1 - m2)**2)/(2*v2) - 0.5\n",
    "    \n",
    "    # https://en.wikipedia.org/wiki/Sum_of_normally_distributed_random_variables\n",
    "    def sum(p, q) : \n",
    "        return dist(p.mean + q.mean, p.variance + q.variance)"
   ]
  },
  {
   "cell_type": "code",
   "execution_count": 185,
   "metadata": {
    "collapsed": false
   },
   "outputs": [],
   "source": [
    "class edge :\n",
    "    def __init__(self, node_a, node_b, dist = None, samples = []) :\n",
    "        self.dist = dist\n",
    "        self.samples = []\n",
    "        self.node_a = node_a\n",
    "        self.node_b = node_b\n",
    "        # dist is always the skill_of_node_a - skill_of_node_b\n",
    "        \n",
    "    def __repr__(self) : \n",
    "        return str(self.node_a) + \"-\" + str(self.node_b)\n",
    "    \n",
    "    def has_samples(self) :\n",
    "        return len(self.samples) != 0\n",
    "    \n",
    "    def add_sample(self, sample) :\n",
    "        self.samples.append(sample)"
   ]
  },
  {
   "cell_type": "code",
   "execution_count": 191,
   "metadata": {
    "collapsed": false
   },
   "outputs": [],
   "source": [
    "class graph :\n",
    "    def __init__(self, V) :\n",
    "        self.__matrix = []\n",
    "        self.V = V\n",
    "        # we will use edges only in the upper right triangle\n",
    "        for i in range(V) :\n",
    "            self.__matrix.append([])\n",
    "            for j in range(V) :\n",
    "                self.__matrix[i].append(edge(i, j))\n",
    "    \n",
    "    def __index(self, x, y) :\n",
    "        if (x == y) :\n",
    "            raise Exception(\"no self edges\")\n",
    "        \n",
    "        if (x > y) : \n",
    "            return (y, x)\n",
    "        \n",
    "        return (x, y)\n",
    "    \n",
    "    def add_sample(self, x, y, sample) :\n",
    "        x, y = self.__index(x, y)\n",
    "        self.__matrix[y][x].add_sample(sample)\n",
    "    \n",
    "    def get_edge(self, x, y) :\n",
    "        x, y = self.__index(x, y)\n",
    "        return self.__matrix[y][x]\n",
    "\n",
    "    def get_sampled_paths(self, x, y) :\n",
    "        return self.__get_sampled_paths_helper(x, y, {x})\n",
    "    \n",
    "    def __get_sampled_paths_helper(self, curr, dest, visited_vertices) :\n",
    "        if curr == dest :\n",
    "            return [[]]\n",
    "        \n",
    "        total_list_of_paths = []\n",
    "        for i in range(self.V) :\n",
    "            if i not in visited_vertices :\n",
    "                cur_edge = self.get_edge(curr, i)\n",
    "                if (cur_edge.has_samples()) :\n",
    "                    new_visited_vertices = visited_vertices.copy()\n",
    "                    new_visited_vertices.add(i)\n",
    "                    list_of_paths = self.__get_sampled_paths_helper(i, dest, new_visited_vertices)\n",
    "                    for path in list_of_paths :\n",
    "                        path.append(cur_edge)\n",
    "                    total_list_of_paths += list_of_paths\n",
    "        \n",
    "        return total_list_of_paths\n",
    "        \n",
    "        "
   ]
  },
  {
   "cell_type": "code",
   "execution_count": 192,
   "metadata": {
    "collapsed": false
   },
   "outputs": [
    {
     "name": "stdout",
     "output_type": "stream",
     "text": [
      "[[2-1, 1-0], [2-0]]\n"
     ]
    }
   ],
   "source": [
    "g =  graph(3)\n",
    "g.add_sample(0,1,0.1)\n",
    "g.add_sample(1,2,0.1)\n",
    "g.add_sample(0,2,0.1)\n",
    "print(str(g.get_sampled_paths(0, 2)))"
   ]
  },
  {
   "cell_type": "code",
   "execution_count": 147,
   "metadata": {
    "collapsed": false
   },
   "outputs": [
    {
     "name": "stdout",
     "output_type": "stream",
     "text": [
      "set([1, 2])\n"
     ]
    }
   ],
   "source": [
    "\n",
    "a = {1}\n",
    "a.add(2)\n",
    "print(a)"
   ]
  },
  {
   "cell_type": "code",
   "execution_count": null,
   "metadata": {
    "collapsed": true
   },
   "outputs": [],
   "source": []
  }
 ],
 "metadata": {
  "kernelspec": {
   "display_name": "Python 2",
   "language": "python",
   "name": "python2"
  },
  "language_info": {
   "codemirror_mode": {
    "name": "ipython",
    "version": 2
   },
   "file_extension": ".py",
   "mimetype": "text/x-python",
   "name": "python",
   "nbconvert_exporter": "python",
   "pygments_lexer": "ipython2",
   "version": "2.7.9"
  }
 },
 "nbformat": 4,
 "nbformat_minor": 0
}
